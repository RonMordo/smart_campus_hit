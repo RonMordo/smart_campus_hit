{
 "cells": [
  {
   "cell_type": "code",
   "execution_count": 5,
   "id": "0db2797c",
   "metadata": {},
   "outputs": [
    {
     "data": {
      "text/html": [
       "<div>\n",
       "<style scoped>\n",
       "    .dataframe tbody tr th:only-of-type {\n",
       "        vertical-align: middle;\n",
       "    }\n",
       "\n",
       "    .dataframe tbody tr th {\n",
       "        vertical-align: top;\n",
       "    }\n",
       "\n",
       "    .dataframe thead th {\n",
       "        text-align: right;\n",
       "    }\n",
       "</style>\n",
       "<table border=\"1\" class=\"dataframe\">\n",
       "  <thead>\n",
       "    <tr style=\"text-align: right;\">\n",
       "      <th></th>\n",
       "      <th>Unnamed: 0</th>\n",
       "      <th>device_profile_id</th>\n",
       "      <th>measured_parameters</th>\n",
       "    </tr>\n",
       "  </thead>\n",
       "  <tbody>\n",
       "    <tr>\n",
       "      <th>0</th>\n",
       "      <td>0</td>\n",
       "      <td>0fbbad60-390d-11ee-87d4-cff6bc55cfcd</td>\n",
       "      <td>['data_relative_humidity', 'dr', 'fcnt', 'data...</td>\n",
       "    </tr>\n",
       "    <tr>\n",
       "      <th>1</th>\n",
       "      <td>1</td>\n",
       "      <td>82d07d40-3907-11ee-87d4-cff6bc55cfcd</td>\n",
       "      <td>['data_relative_humidity', 'dr', 'fcnt', 'data...</td>\n",
       "    </tr>\n",
       "    <tr>\n",
       "      <th>2</th>\n",
       "      <td>2</td>\n",
       "      <td>c153fba0-1b34-11ee-a00e-098052e37df7</td>\n",
       "      <td>['data_relative_humidity', 'dr', 'fcnt', 'data...</td>\n",
       "    </tr>\n",
       "    <tr>\n",
       "      <th>3</th>\n",
       "      <td>3</td>\n",
       "      <td>c8fb5f10-1018-11ed-8a62-755139b76191</td>\n",
       "      <td>['data_relative_humidity', 'dr', 'fcnt', 'data...</td>\n",
       "    </tr>\n",
       "  </tbody>\n",
       "</table>\n",
       "</div>"
      ],
      "text/plain": [
       "   Unnamed: 0                     device_profile_id  \\\n",
       "0           0  0fbbad60-390d-11ee-87d4-cff6bc55cfcd   \n",
       "1           1  82d07d40-3907-11ee-87d4-cff6bc55cfcd   \n",
       "2           2  c153fba0-1b34-11ee-a00e-098052e37df7   \n",
       "3           3  c8fb5f10-1018-11ed-8a62-755139b76191   \n",
       "\n",
       "                                 measured_parameters  \n",
       "0  ['data_relative_humidity', 'dr', 'fcnt', 'data...  \n",
       "1  ['data_relative_humidity', 'dr', 'fcnt', 'data...  \n",
       "2  ['data_relative_humidity', 'dr', 'fcnt', 'data...  \n",
       "3  ['data_relative_humidity', 'dr', 'fcnt', 'data...  "
      ]
     },
     "execution_count": 5,
     "metadata": {},
     "output_type": "execute_result"
    }
   ],
   "source": [
    "import pandas as pd\n",
    "\n",
    "df = pd.read_csv(\"~/Documents/Projects/data_science/smart_campus_hit/data/sensor_mesurements.csv\")\n",
    "df.head()"
   ]
  },
  {
   "cell_type": "code",
   "execution_count": null,
   "id": "8838e4f5",
   "metadata": {},
   "outputs": [],
   "source": []
  },
  {
   "cell_type": "code",
   "execution_count": null,
   "id": "39b9c1f2",
   "metadata": {},
   "outputs": [],
   "source": []
  },
  {
   "cell_type": "code",
   "execution_count": null,
   "id": "626114a7",
   "metadata": {},
   "outputs": [],
   "source": []
  }
 ],
 "metadata": {
  "kernelspec": {
   "display_name": "Python 3 (ipykernel)",
   "language": "python",
   "name": "python3"
  },
  "language_info": {
   "codemirror_mode": {
    "name": "ipython",
    "version": 3
   },
   "file_extension": ".py",
   "mimetype": "text/x-python",
   "name": "python",
   "nbconvert_exporter": "python",
   "pygments_lexer": "ipython3",
   "version": "3.11.5"
  }
 },
 "nbformat": 4,
 "nbformat_minor": 5
}
